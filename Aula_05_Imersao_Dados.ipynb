{
  "nbformat": 4,
  "nbformat_minor": 0,
  "metadata": {
    "colab": {
      "name": "Aula_05_Imersao_Dados.ipynb",
      "provenance": [],
      "collapsed_sections": [
        "5_hHHca2f9ek"
      ],
      "authorship_tag": "ABX9TyN+Mes5LkQTDvGPFY2Mt0x3",
      "include_colab_link": true
    },
    "kernelspec": {
      "name": "python3",
      "display_name": "Python 3"
    }
  },
  "cells": [
    {
      "cell_type": "markdown",
      "metadata": {
        "id": "view-in-github",
        "colab_type": "text"
      },
      "source": [
        "<a href=\"https://colab.research.google.com/github/vcwild/imersao-dados/blob/main/Aula_05_Imersao_Dados.ipynb\" target=\"_parent\"><img src=\"https://colab.research.google.com/assets/colab-badge.svg\" alt=\"Open In Colab\"/></a>"
      ]
    },
    {
      "cell_type": "markdown",
      "metadata": {
        "id": "VCbHYdUWfudI"
      },
      "source": [
        "# Setup"
      ]
    },
    {
      "cell_type": "markdown",
      "metadata": {
        "id": "3rPyDtxexhzc"
      },
      "source": [
        "## Set up default environment"
      ]
    },
    {
      "cell_type": "code",
      "metadata": {
        "id": "9oI0G4hyevpR"
      },
      "source": [
        "import numpy as np\n",
        "import pandas as pd\n",
        "import matplotlib.pyplot as plt\n",
        "import warnings\n",
        "\n",
        "# set options\n",
        "pd.set_option('display.max_columns', None)\n",
        "pd.set_option('display.max_rows', 150)\n",
        "warnings.filterwarnings('ignore')\n",
        "\n",
        "# set seed\n",
        "seed = 42"
      ],
      "execution_count": 1,
      "outputs": []
    },
    {
      "cell_type": "markdown",
      "metadata": {
        "id": "eAxsbrw5xW8d"
      },
      "source": [
        "## Download, unzip dataset, rename it and remove source"
      ]
    },
    {
      "cell_type": "code",
      "metadata": {
        "id": "1b6460XmfVMG",
        "outputId": "6e2e42d0-af1e-4700-8762-55d037f8c3d7",
        "colab": {
          "base_uri": "https://localhost:8080/",
          "height": 357
        }
      },
      "source": [
        "import zipfile\n",
        "\n",
        "!wget https://github.com/alura-cursos/imersao-dados-2-2020/blob/master/MICRODADOS_ENEM_2019_SAMPLE_43278.csv?raw=true --no-check-certificate\n",
        "\n",
        "# file = \"df.csv.zip\"\n",
        "# save_path = \"./\"\n",
        "\n",
        "# with zipfile.ZipFile(file, 'r') as zip_ref:\n",
        "#     zip_ref.extractall(save_path)\n",
        "\n",
        "# ! rm df.csv.zip && mv df.csv.txt df.csv\n",
        "! mv \"MICRODADOS_ENEM_2019_SAMPLE_43278.csv?raw=true\" \"microdados.csv\""
      ],
      "execution_count": 2,
      "outputs": [
        {
          "output_type": "stream",
          "text": [
            "--2020-10-24 04:13:39--  https://github.com/alura-cursos/imersao-dados-2-2020/blob/master/MICRODADOS_ENEM_2019_SAMPLE_43278.csv?raw=true\n",
            "Resolving github.com (github.com)... 140.82.112.4\n",
            "Connecting to github.com (github.com)|140.82.112.4|:443... connected.\n",
            "HTTP request sent, awaiting response... 302 Found\n",
            "Location: https://github.com/alura-cursos/imersao-dados-2-2020/raw/master/MICRODADOS_ENEM_2019_SAMPLE_43278.csv [following]\n",
            "--2020-10-24 04:13:40--  https://github.com/alura-cursos/imersao-dados-2-2020/raw/master/MICRODADOS_ENEM_2019_SAMPLE_43278.csv\n",
            "Reusing existing connection to github.com:443.\n",
            "HTTP request sent, awaiting response... 302 Found\n",
            "Location: https://raw.githubusercontent.com/alura-cursos/imersao-dados-2-2020/master/MICRODADOS_ENEM_2019_SAMPLE_43278.csv [following]\n",
            "--2020-10-24 04:13:40--  https://raw.githubusercontent.com/alura-cursos/imersao-dados-2-2020/master/MICRODADOS_ENEM_2019_SAMPLE_43278.csv\n",
            "Resolving raw.githubusercontent.com (raw.githubusercontent.com)... 151.101.0.133, 151.101.64.133, 151.101.128.133, ...\n",
            "Connecting to raw.githubusercontent.com (raw.githubusercontent.com)|151.101.0.133|:443... connected.\n",
            "HTTP request sent, awaiting response... 200 OK\n",
            "Length: 83357338 (79M) [text/plain]\n",
            "Saving to: ‘MICRODADOS_ENEM_2019_SAMPLE_43278.csv?raw=true’\n",
            "\n",
            "MICRODADOS_ENEM_201 100%[===================>]  79.50M  91.4MB/s    in 0.9s    \n",
            "\n",
            "2020-10-24 04:13:41 (91.4 MB/s) - ‘MICRODADOS_ENEM_2019_SAMPLE_43278.csv?raw=true’ saved [83357338/83357338]\n",
            "\n"
          ],
          "name": "stdout"
        }
      ]
    },
    {
      "cell_type": "markdown",
      "metadata": {
        "id": "oAc3eu2sfxV9"
      },
      "source": [
        "## Import dataset\n"
      ]
    },
    {
      "cell_type": "code",
      "metadata": {
        "id": "D2B2B1KPfYPp",
        "outputId": "8c857873-0152-4bfc-8ab9-fdef668f15f7",
        "colab": {
          "base_uri": "https://localhost:8080/",
          "height": 136
        }
      },
      "source": [
        "# df = pd.read_csv(\"df.csv\", encoding=\"utf8\", sep=\";\")\n",
        "df = pd.read_csv(\"microdados.csv\", encoding=\"utf8\", sep=\",\")\n",
        "df.columns.sort"
      ],
      "execution_count": 3,
      "outputs": [
        {
          "output_type": "execute_result",
          "data": {
            "text/plain": [
              "<bound method Index.sort of Index(['NU_INSCRICAO', 'NU_ANO', 'CO_MUNICIPIO_RESIDENCIA',\n",
              "       'NO_MUNICIPIO_RESIDENCIA', 'CO_UF_RESIDENCIA', 'SG_UF_RESIDENCIA',\n",
              "       'NU_IDADE', 'TP_SEXO', 'TP_ESTADO_CIVIL', 'TP_COR_RACA',\n",
              "       ...\n",
              "       'Q016', 'Q017', 'Q018', 'Q019', 'Q020', 'Q021', 'Q022', 'Q023', 'Q024',\n",
              "       'Q025'],\n",
              "      dtype='object', length=136)>"
            ]
          },
          "metadata": {
            "tags": []
          },
          "execution_count": 3
        }
      ]
    },
    {
      "cell_type": "markdown",
      "metadata": {
        "id": "-_6xxKXnx197"
      },
      "source": [
        "# Machine Learning"
      ]
    },
    {
      "cell_type": "markdown",
      "metadata": {
        "id": "dyPqmCfHf7xy"
      },
      "source": [
        "## Define features"
      ]
    },
    {
      "cell_type": "code",
      "metadata": {
        "id": "AhNsRTuNfdmk"
      },
      "source": [
        "exams = [\"NU_NOTA_CN\", \"NU_NOTA_CH\", \"NU_NOTA_MT\", \"NU_NOTA_LC\", \"NU_NOTA_REDACAO\"]\n",
        "features = [\"NU_NOTA_CH\", \"NU_NOTA_LC\", \"NU_NOTA_CN\", \"NU_NOTA_REDACAO\"]\n",
        "target = \"NU_NOTA_MT\"\n",
        "\n",
        "exams_dropna = df[exams].dropna()\n",
        "X = exams_dropna[features]\n",
        "y = exams_dropna[target]"
      ],
      "execution_count": 4,
      "outputs": []
    },
    {
      "cell_type": "markdown",
      "metadata": {
        "id": "5_hHHca2f9ek"
      },
      "source": [
        "## Train-test split"
      ]
    },
    {
      "cell_type": "code",
      "metadata": {
        "id": "rH8pQ2k9fkCB"
      },
      "source": [
        "from sklearn.model_selection import train_test_split as tts\n",
        "\n",
        "X_train, X_test, y_train, y_test =  tts(X, y, test_size=0.25, random_state=seed)"
      ],
      "execution_count": 5,
      "outputs": []
    },
    {
      "cell_type": "markdown",
      "metadata": {
        "id": "KAYGTl2TFCVU"
      },
      "source": [
        "## Model Selection Using Grid Search"
      ]
    },
    {
      "cell_type": "markdown",
      "metadata": {
        "id": "bRsp8BJugTbP"
      },
      "source": [
        "### Define Grid Search"
      ]
    },
    {
      "cell_type": "code",
      "metadata": {
        "id": "L-5v1r-mgHAo"
      },
      "source": [
        "from sklearn.tree import DecisionTreeRegressor\n",
        "from sklearn.linear_model import LinearRegression, Ridge, Lasso\n",
        "from sklearn.svm import LinearSVR\n",
        "from sklearn.ensemble import RandomForestRegressor\n",
        "from sklearn.model_selection import GridSearchCV\n",
        "from sklearn.pipeline import Pipeline\n",
        "\n",
        "seed = 42\n",
        "\n",
        "pipeline = Pipeline([\n",
        "    ('regressor', DecisionTreeRegressor())\n",
        "])\n",
        "\n",
        "search = [\n",
        "    # {\n",
        "    #     'regressor': [LinearSVR(random_state=seed)],\n",
        "    #     'regressor__C': [0.5, 1, 3]\n",
        "    # },\n",
        "    {\n",
        "        'regressor': [LinearRegression(n_jobs=-1)],\n",
        "        'regressor__normalize': ['False', 'True']\n",
        "    },\n",
        "    # {\n",
        "    #     'regressor': [Ridge(random_state=seed)],\n",
        "    #     'regressor__alpha': [0.1, 0.5, 1],\n",
        "    #     'regressor__normalize': ['False', 'True']\n",
        "    # },\n",
        "    # {\n",
        "    #     'regressor': [Lasso(random_state=seed)],\n",
        "    #     'regressor__alpha': [0.5, 1, 2],\n",
        "    #     'regressor__normalize': ['False', 'True']\n",
        "    # }\n",
        "]\n",
        "\n",
        "clf = GridSearchCV(pipeline, search, cv=5, n_jobs=-1, scoring='neg_mean_squared_error')"
      ],
      "execution_count": 6,
      "outputs": []
    },
    {
      "cell_type": "markdown",
      "metadata": {
        "id": "I6ocPDcCFZlp"
      },
      "source": [
        "### Apply Grid Search"
      ]
    },
    {
      "cell_type": "markdown",
      "metadata": {
        "id": "UOb6CD6PAHFg"
      },
      "source": [
        "#### Train"
      ]
    },
    {
      "cell_type": "code",
      "metadata": {
        "id": "P1sSAQhsAGJX",
        "outputId": "0e3402c7-f7ea-409f-b39b-6bf229a87e42",
        "colab": {
          "base_uri": "https://localhost:8080/",
          "height": 102
        }
      },
      "source": [
        "best_fit = clf.fit(X_train, y_train)\n",
        "\n",
        "best_fit.best_estimator_"
      ],
      "execution_count": 7,
      "outputs": [
        {
          "output_type": "execute_result",
          "data": {
            "text/plain": [
              "Pipeline(memory=None,\n",
              "         steps=[('regressor',\n",
              "                 LinearRegression(copy_X=True, fit_intercept=True, n_jobs=-1,\n",
              "                                  normalize='False'))],\n",
              "         verbose=False)"
            ]
          },
          "metadata": {
            "tags": []
          },
          "execution_count": 7
        }
      ]
    },
    {
      "cell_type": "code",
      "metadata": {
        "id": "9qwjysZxkNII",
        "outputId": "9b000b00-c9b1-4386-8cea-0c44afab90d4",
        "colab": {
          "base_uri": "https://localhost:8080/",
          "height": 34
        }
      },
      "source": [
        "best_fit.best_score_"
      ],
      "execution_count": 8,
      "outputs": [
        {
          "output_type": "execute_result",
          "data": {
            "text/plain": [
              "-5962.738232609517"
            ]
          },
          "metadata": {
            "tags": []
          },
          "execution_count": 8
        }
      ]
    },
    {
      "cell_type": "markdown",
      "metadata": {
        "id": "OMUzwzV-AAgk"
      },
      "source": [
        "#### Test"
      ]
    },
    {
      "cell_type": "code",
      "metadata": {
        "id": "ugxI7Rnxsnrw"
      },
      "source": [
        "prediction = best_fit.predict(X_test)"
      ],
      "execution_count": 9,
      "outputs": []
    },
    {
      "cell_type": "markdown",
      "metadata": {
        "id": "O0V14e8wgCJf"
      },
      "source": [
        "## Model Selection Using Cross Validation"
      ]
    },
    {
      "cell_type": "markdown",
      "metadata": {
        "id": "wgIv-TGkVTKg"
      },
      "source": [
        "### Apply Cross Validate"
      ]
    },
    {
      "cell_type": "code",
      "metadata": {
        "id": "s2sixnOsw2Su"
      },
      "source": [
        "# define scoring model\n",
        "def confidence_interval(cv):\n",
        "  metrics = pd.DataFrame()\n",
        "  metrics['mse'] = cv['test_score']*-1\n",
        "  mean = metrics.mse.mean()\n",
        "  cv_std = metrics.mse.std()\n",
        "  lower_lim = mean - 2*cv_std\n",
        "  upper_lim = mean + 2*cv_std\n",
        "  print(f\"Confidence interval between:\\n {lower_lim:.3f}|---------|{upper_lim:.3f}\")"
      ],
      "execution_count": 10,
      "outputs": []
    },
    {
      "cell_type": "code",
      "metadata": {
        "id": "tJ6XIRl5K9TN"
      },
      "source": [
        "from sklearn.model_selection import cross_validate\n",
        "from sklearn.model_selection import KFold\n",
        "\n",
        "# define model pipeline\n",
        "def tree_regressor(level, metric='neg_mean_squared_error', splits=10, random_state=42, interval=False):\n",
        "\n",
        "  seed = random_state\n",
        "\n",
        "  kfold = KFold(n_splits = splits, shuffle=True)\n",
        "  model = DecisionTreeRegressor(max_depth=level, random_state=seed)\n",
        "  cv = cross_validate(model, X, y, cv=kfold, scoring=metric, n_jobs=-1, return_train_score=True)\n",
        "\n",
        "  if interval:\n",
        "    confidence_interval(cv)\n",
        "  if metric == 'neg_mean_squared_error':\n",
        "    print(f'{metric} = TRAIN {(cv[\"train_score\"]*-1).mean():.5f} TEST {(cv[\"test_score\"]*-1).mean():.5f}')\n",
        "  else:\n",
        "    print(f'{metric} = TRAIN {cv[\"train_score\"].mean():.5f} TEST {(cv[\"test_score\"]).mean():.5f}')"
      ],
      "execution_count": 11,
      "outputs": []
    },
    {
      "cell_type": "code",
      "metadata": {
        "id": "pDO3MODqSMwE",
        "outputId": "f810d5ea-005c-44dc-bb07-78b569934f80",
        "colab": {
          "base_uri": "https://localhost:8080/",
          "height": 187
        }
      },
      "source": [
        "for i in range(1, 11):\n",
        "  tree_regressor(level=i, interval=False, metric='r2')"
      ],
      "execution_count": 13,
      "outputs": [
        {
          "output_type": "stream",
          "text": [
            "r2 = TRAIN 0.34344 TEST 0.34273\n",
            "r2 = TRAIN 0.45358 TEST 0.45167\n",
            "r2 = TRAIN 0.49599 TEST 0.49203\n",
            "r2 = TRAIN 0.51784 TEST 0.51345\n",
            "r2 = TRAIN 0.53119 TEST 0.52429\n",
            "r2 = TRAIN 0.54228 TEST 0.53245\n",
            "r2 = TRAIN 0.55081 TEST 0.53709\n",
            "r2 = TRAIN 0.55874 TEST 0.53723\n",
            "r2 = TRAIN 0.56791 TEST 0.53179\n",
            "r2 = TRAIN 0.57990 TEST 0.51911\n"
          ],
          "name": "stdout"
        }
      ]
    }
  ]
}