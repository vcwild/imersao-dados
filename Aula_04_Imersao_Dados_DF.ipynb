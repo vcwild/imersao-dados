{
  "nbformat": 4,
  "nbformat_minor": 0,
  "metadata": {
    "colab": {
      "name": "Aula_04_Imersao_Dados_DF.ipynb",
      "provenance": [],
      "authorship_tag": "ABX9TyPVi+56tv7R8Io2ZRgKmcGn",
      "include_colab_link": true
    },
    "kernelspec": {
      "name": "python3",
      "display_name": "Python 3"
    }
  },
  "cells": [
    {
      "cell_type": "markdown",
      "metadata": {
        "id": "view-in-github",
        "colab_type": "text"
      },
      "source": [
        "<a href=\"https://colab.research.google.com/github/vcwild/imersao-dados/blob/main/Aula_04_Imersao_Dados_DF.ipynb\" target=\"_parent\"><img src=\"https://colab.research.google.com/assets/colab-badge.svg\" alt=\"Open In Colab\"/></a>"
      ]
    },
    {
      "cell_type": "markdown",
      "metadata": {
        "id": "VCbHYdUWfudI"
      },
      "source": [
        "# Setup"
      ]
    },
    {
      "cell_type": "markdown",
      "metadata": {
        "id": "3rPyDtxexhzc"
      },
      "source": [
        "## Set up default environment"
      ]
    },
    {
      "cell_type": "code",
      "metadata": {
        "id": "9oI0G4hyevpR"
      },
      "source": [
        "import numpy as np\n",
        "import pandas as pd\n",
        "import matplotlib.pyplot as plt\n",
        "import warnings\n",
        "\n",
        "# set options\n",
        "pd.set_option('display.max_columns', None)\n",
        "pd.set_option('display.max_rows', 150)\n",
        "warnings.filterwarnings('ignore')\n",
        "\n",
        "# set seed\n",
        "seed = 42"
      ],
      "execution_count": 1,
      "outputs": []
    },
    {
      "cell_type": "markdown",
      "metadata": {
        "id": "eAxsbrw5xW8d"
      },
      "source": [
        "## Download, unzip dataset, rename it and remove source"
      ]
    },
    {
      "cell_type": "code",
      "metadata": {
        "id": "1b6460XmfVMG",
        "outputId": "cf4b5de8-7057-4349-bb86-cd0a6d13275e",
        "colab": {
          "base_uri": "https://localhost:8080/",
          "height": 286
        }
      },
      "source": [
        "import zipfile\n",
        "\n",
        "!wget https://github.com/alura-cursos/imersao-dados-2-2020/raw/master/por%20estado/df.csv.zip --no-check-certificate\n",
        "\n",
        "path_to_zip_file = \"df.csv.zip\"\n",
        "directory_to_extract_to = \"./\"\n",
        "\n",
        "with zipfile.ZipFile(path_to_zip_file, 'r') as zip_ref:\n",
        "    zip_ref.extractall(directory_to_extract_to)\n",
        "\n",
        "! rm df.csv.zip && mv df.csv.txt df.csv"
      ],
      "execution_count": 2,
      "outputs": [
        {
          "output_type": "stream",
          "text": [
            "--2020-10-23 01:39:52--  https://github.com/alura-cursos/imersao-dados-2-2020/raw/master/por%20estado/df.csv.zip\n",
            "Resolving github.com (github.com)... 140.82.118.4\n",
            "Connecting to github.com (github.com)|140.82.118.4|:443... connected.\n",
            "HTTP request sent, awaiting response... 302 Found\n",
            "Location: https://raw.githubusercontent.com/alura-cursos/imersao-dados-2-2020/master/por%20estado/df.csv.zip [following]\n",
            "--2020-10-23 01:39:53--  https://raw.githubusercontent.com/alura-cursos/imersao-dados-2-2020/master/por%20estado/df.csv.zip\n",
            "Resolving raw.githubusercontent.com (raw.githubusercontent.com)... 151.101.0.133, 151.101.64.133, 151.101.128.133, ...\n",
            "Connecting to raw.githubusercontent.com (raw.githubusercontent.com)|151.101.0.133|:443... connected.\n",
            "HTTP request sent, awaiting response... 200 OK\n",
            "Length: 10285422 (9.8M) [application/zip]\n",
            "Saving to: ‘df.csv.zip’\n",
            "\n",
            "df.csv.zip          100%[===================>]   9.81M  58.7MB/s    in 0.2s    \n",
            "\n",
            "2020-10-23 01:39:54 (58.7 MB/s) - ‘df.csv.zip’ saved [10285422/10285422]\n",
            "\n"
          ],
          "name": "stdout"
        }
      ]
    },
    {
      "cell_type": "markdown",
      "metadata": {
        "id": "oAc3eu2sfxV9"
      },
      "source": [
        "## Import dataset\n"
      ]
    },
    {
      "cell_type": "code",
      "metadata": {
        "id": "D2B2B1KPfYPp",
        "outputId": "8ea98f26-f344-4396-ad2e-3818de700439",
        "colab": {
          "base_uri": "https://localhost:8080/",
          "height": 134
        }
      },
      "source": [
        "df = pd.read_csv(\"df.csv\", encoding=\"utf8\", sep=\";\")\n",
        "df.columns.sort"
      ],
      "execution_count": 3,
      "outputs": [
        {
          "output_type": "execute_result",
          "data": {
            "text/plain": [
              "<bound method Index.sort of Index(['ID', ' NU_INSCRICAO', 'NU_ANO', 'CO_MUNICIPIO_RESIDENCIA',\n",
              "       'NO_MUNICIPIO_RESIDENCIA', 'CO_UF_RESIDENCIA', 'SG_UF_RESIDENCIA',\n",
              "       'NU_IDADE', 'TP_SEXO', 'TP_ESTADO_CIVIL',\n",
              "       ...\n",
              "       'Q016', 'Q017', 'Q018', 'Q019', 'Q020', 'Q021', 'Q022', 'Q023', 'Q024',\n",
              "       'Q025 '],\n",
              "      dtype='object', length=137)>"
            ]
          },
          "metadata": {
            "tags": []
          },
          "execution_count": 3
        }
      ]
    },
    {
      "cell_type": "markdown",
      "metadata": {
        "id": "-_6xxKXnx197"
      },
      "source": [
        "# Machine Learning"
      ]
    },
    {
      "cell_type": "markdown",
      "metadata": {
        "id": "dyPqmCfHf7xy"
      },
      "source": [
        "## Define features"
      ]
    },
    {
      "cell_type": "code",
      "metadata": {
        "id": "AhNsRTuNfdmk"
      },
      "source": [
        "exams = [\"NU_NOTA_CN\", \"NU_NOTA_CH\", \"NU_NOTA_MT\", \"NU_NOTA_LC\", \"NU_NOTA_REDACAO\"]\n",
        "features = [\"NU_NOTA_CH\", \"NU_NOTA_LC\", \"NU_NOTA_CN\", \"NU_NOTA_REDACAO\"]\n",
        "target = \"NU_NOTA_MT\"\n",
        "\n",
        "exams_dropna = df[exams].dropna()\n",
        "X = exams_dropna[features]\n",
        "y = exams_dropna[target]"
      ],
      "execution_count": 4,
      "outputs": []
    },
    {
      "cell_type": "markdown",
      "metadata": {
        "id": "5_hHHca2f9ek"
      },
      "source": [
        "## Train-test split"
      ]
    },
    {
      "cell_type": "code",
      "metadata": {
        "id": "rH8pQ2k9fkCB"
      },
      "source": [
        "from sklearn.model_selection import train_test_split as tts\n",
        "\n",
        "X_train, X_test, y_train, y_test =  tts(X, y, test_size=0.25, random_state=seed)"
      ],
      "execution_count": 5,
      "outputs": []
    },
    {
      "cell_type": "markdown",
      "metadata": {
        "id": "bRsp8BJugTbP"
      },
      "source": [
        "## Apply Grid Search"
      ]
    },
    {
      "cell_type": "code",
      "metadata": {
        "id": "L-5v1r-mgHAo"
      },
      "source": [
        "from sklearn.tree import DecisionTreeRegressor\n",
        "from sklearn.linear_model import LinearRegression, Ridge, Lasso\n",
        "from sklearn.svm import LinearSVR\n",
        "from sklearn.ensemble import RandomForestRegressor\n",
        "from sklearn.model_selection import GridSearchCV\n",
        "from sklearn.pipeline import Pipeline\n",
        "\n",
        "seed = 42\n",
        "\n",
        "pipeline = Pipeline([\n",
        "    ('regressor', RandomForestRegressor())\n",
        "])\n",
        "\n",
        "search = [\n",
        "    {\n",
        "        'regressor': [LinearRegression(n_jobs=-1)],\n",
        "        'regressor__normalize': ['False', 'True']\n",
        "    },\n",
        "    {\n",
        "        'regressor': [Ridge(random_state=seed)],\n",
        "        'regressor__alpha': [0.1, 0.5, 1],\n",
        "        'regressor__normalize': ['False', 'True']\n",
        "    },\n",
        "    {\n",
        "        'regressor': [Lasso(random_state=seed)],\n",
        "        'regressor__alpha': [0.5, 1, 2],\n",
        "        'regressor__normalize': ['False', 'True']\n",
        "    }\n",
        "]\n",
        "\n",
        "clf = GridSearchCV(pipeline, search, cv=5, n_jobs=-1, scoring='r2')"
      ],
      "execution_count": 6,
      "outputs": []
    },
    {
      "cell_type": "markdown",
      "metadata": {
        "id": "UOb6CD6PAHFg"
      },
      "source": [
        "### Train"
      ]
    },
    {
      "cell_type": "code",
      "metadata": {
        "id": "P1sSAQhsAGJX"
      },
      "source": [
        "best_fit = clf.fit(X_train, y_train)"
      ],
      "execution_count": 7,
      "outputs": []
    },
    {
      "cell_type": "code",
      "metadata": {
        "id": "mi5kRq6vgMhU",
        "outputId": "d0cde6cc-ab0e-4ae2-eb26-d344111bcbfc",
        "colab": {
          "base_uri": "https://localhost:8080/",
          "height": 101
        }
      },
      "source": [
        "best_fit.best_estimator_"
      ],
      "execution_count": 8,
      "outputs": [
        {
          "output_type": "execute_result",
          "data": {
            "text/plain": [
              "Pipeline(memory=None,\n",
              "         steps=[('regressor',\n",
              "                 LinearRegression(copy_X=True, fit_intercept=True, n_jobs=-1,\n",
              "                                  normalize='False'))],\n",
              "         verbose=False)"
            ]
          },
          "metadata": {
            "tags": []
          },
          "execution_count": 8
        }
      ]
    },
    {
      "cell_type": "code",
      "metadata": {
        "id": "9qwjysZxkNII",
        "outputId": "47dc1632-a09b-4b07-a109-8174f3998958",
        "colab": {
          "base_uri": "https://localhost:8080/",
          "height": 34
        }
      },
      "source": [
        "best_fit.best_score_"
      ],
      "execution_count": 9,
      "outputs": [
        {
          "output_type": "execute_result",
          "data": {
            "text/plain": [
              "0.5442280943981898"
            ]
          },
          "metadata": {
            "tags": []
          },
          "execution_count": 9
        }
      ]
    },
    {
      "cell_type": "markdown",
      "metadata": {
        "id": "OMUzwzV-AAgk"
      },
      "source": [
        "### Test"
      ]
    },
    {
      "cell_type": "code",
      "metadata": {
        "id": "ugxI7Rnxsnrw"
      },
      "source": [
        "prediction = best_fit.predict(X_test)"
      ],
      "execution_count": 10,
      "outputs": []
    },
    {
      "cell_type": "markdown",
      "metadata": {
        "id": "CHwF8pdEF09b"
      },
      "source": [
        "## Validate"
      ]
    },
    {
      "cell_type": "code",
      "metadata": {
        "id": "K8FvwPL62gzL",
        "outputId": "9288e126-57f2-4e1e-e1e9-144d53947eac",
        "colab": {
          "base_uri": "https://localhost:8080/",
          "height": 281
        }
      },
      "source": [
        "import matplotlib.pyplot as plt \n",
        "import seaborn as sns\n",
        "\n",
        "sns.scatterplot(prediction, y_test)\n",
        "plt.title(\"Prediction vs Test\");"
      ],
      "execution_count": 16,
      "outputs": [
        {
          "output_type": "display_data",
          "data": {
            "image/png": "[encoded data removed]",
            "text/plain": [
              "<Figure size 432x288 with 1 Axes>"
            ]
          },
          "metadata": {
            "tags": [],
            "needs_background": "light"
          }
        }
      ]
    },
    {
      "cell_type": "markdown",
      "metadata": {
        "id": "d9vw2k4eFfl-"
      },
      "source": [
        "### Define Mean Absolute Error (MAE)"
      ]
    },
    {
      "cell_type": "code",
      "metadata": {
        "id": "eLxM7TKC9yDY",
        "outputId": "661d10cc-63f3-42ab-f9ad-733be711b3d7",
        "colab": {
          "base_uri": "https://localhost:8080/",
          "height": 34
        }
      },
      "source": [
        "residuals = y_test - prediction\n",
        "results = pd.DataFrame()\n",
        "\n",
        "results[\"true\"] = y_test\n",
        "results[\"prediction\"] = prediction\n",
        "results[\"error\"] = y_test - prediction\n",
        "results[\"sq_error\"] = (results.error)**2\n",
        "results[\"abs_error\"] = results.sq_error**(1/2)\n",
        "mae = results.abs_error.mean()\n",
        "mae"
      ],
      "execution_count": 12,
      "outputs": [
        {
          "output_type": "execute_result",
          "data": {
            "text/plain": [
              "62.98245973484579"
            ]
          },
          "metadata": {
            "tags": []
          },
          "execution_count": 12
        }
      ]
    },
    {
      "cell_type": "markdown",
      "metadata": {
        "id": "mUnCsOmqF4JG"
      },
      "source": [
        "### Compare to sklearn MAE implementation"
      ]
    },
    {
      "cell_type": "code",
      "metadata": {
        "id": "6B_-HY1qA2Nn",
        "outputId": "7f21c77b-4ee3-474f-fbdc-c0c67fc8bc38",
        "colab": {
          "base_uri": "https://localhost:8080/",
          "height": 34
        }
      },
      "source": [
        "from sklearn.metrics import mean_squared_error, mean_absolute_error\n",
        "\n",
        "# mean_squared_error(y_test, prediction, squared=False)\n",
        "mean_absolute_error(y_test, prediction)"
      ],
      "execution_count": 13,
      "outputs": [
        {
          "output_type": "execute_result",
          "data": {
            "text/plain": [
              "62.98245973484583"
            ]
          },
          "metadata": {
            "tags": []
          },
          "execution_count": 13
        }
      ]
    },
    {
      "cell_type": "markdown",
      "metadata": {
        "id": "qXFhVVwj_6LL"
      },
      "source": [
        "### Plot residuals"
      ]
    },
    {
      "cell_type": "code",
      "metadata": {
        "id": "kyVh4RsS96aW",
        "outputId": "a7c3c49f-68ff-4daa-aafd-e9f8df486b08",
        "colab": {
          "base_uri": "https://localhost:8080/",
          "height": 281
        }
      },
      "source": [
        "index = [i for i in range(len(prediction))]\n",
        "\n",
        "sns.lineplot(index, results.error)\n",
        "plt.axhline(0, color=\"r\")\n",
        "plt.title(\"Residuals Plot\");"
      ],
      "execution_count": 17,
      "outputs": [
        {
          "output_type": "display_data",
          "data": {
            "image/png": "[encoded data removed]",
            "text/plain": [
              "<Figure size 432x288 with 1 Axes>"
            ]
          },
          "metadata": {
            "tags": [],
            "needs_background": "light"
          }
        }
      ]
    },
    {
      "cell_type": "code",
      "metadata": {
        "id": "qCqKjEsVLgba"
      },
      "source": [
        ""
      ],
      "execution_count": null,
      "outputs": []
    }
  ]
}